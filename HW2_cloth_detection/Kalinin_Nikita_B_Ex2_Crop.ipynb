version https://git-lfs.github.com/spec/v1
oid sha256:cea61639eb2e3a010498f4abf6ee849883971cf2da0e7e1cdf4ef062366f69af
size 40006528
